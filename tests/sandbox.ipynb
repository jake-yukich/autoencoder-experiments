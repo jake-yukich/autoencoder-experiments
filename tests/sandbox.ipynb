{
 "cells": [
  {
   "cell_type": "code",
   "execution_count": 1,
   "metadata": {},
   "outputs": [],
   "source": [
    "from src.data.datasets import DatasetFactory, MNISTDataset, CIFAR10Dataset, BaseDataset\n"
   ]
  },
  {
   "cell_type": "code",
   "execution_count": 2,
   "metadata": {},
   "outputs": [],
   "source": [
    "# FIRST THING IS TO GET MNIST DATASET WORKING"
   ]
  },
  {
   "cell_type": "code",
   "execution_count": null,
   "metadata": {},
   "outputs": [],
   "source": [
    "from src.data.datasets import DatasetFactory\n",
    "from src.utils.utils import load_config\n",
    "import matplotlib.pyplot as plt\n",
    "\n",
    "\n",
    "config = load_config('../configs/training_configs/mnist_config.yaml')\n",
    "\n",
    "# Create datasets\n",
    "train_dataset = DatasetFactory.create_dataset(config, split='train')\n",
    "test_dataset = DatasetFactory.create_dataset(config, split='test')\n",
    "\n",
    "# Create dataloaders\n",
    "train_loader = DatasetFactory.create_dataloader(train_dataset, config)\n",
    "\n",
    "# Get first batch and show sample info\n",
    "images, labels = next(iter(train_loader))\n",
    "print(f\"Batch shape: {images.shape}\")\n",
    "print(f\"Labels shape: {labels.shape}\")\n",
    "print(f\"Sample labels: {labels[:5]}\")\n",
    "\n",
    "# Display a few sample images\n",
    "fig, axes = plt.subplots(1, 4, figsize=(12, 3))\n",
    "for i in range(4):\n",
    "    axes[i].imshow(images[i].squeeze(), cmap='gray')\n",
    "    axes[i].set_title(f'Label: {labels[i].item()}')\n",
    "    axes[i].axis('off')\n",
    "plt.tight_layout()\n",
    "plt.show()\n"
   ]
  },
  {
   "cell_type": "code",
   "execution_count": null,
   "metadata": {},
   "outputs": [],
   "source": []
  }
 ],
 "metadata": {
  "kernelspec": {
   "display_name": "autoencoder-experiments-8tNNn1jW",
   "language": "python",
   "name": "python3"
  },
  "language_info": {
   "codemirror_mode": {
    "name": "ipython",
    "version": 3
   },
   "file_extension": ".py",
   "mimetype": "text/x-python",
   "name": "python",
   "nbconvert_exporter": "python",
   "pygments_lexer": "ipython3",
   "version": "3.11.11"
  }
 },
 "nbformat": 4,
 "nbformat_minor": 2
}
